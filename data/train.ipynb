{
 "cells": [
  {
   "cell_type": "code",
   "execution_count": null,
   "metadata": {},
   "outputs": [],
   "source": [
    "import pandas as pd\n",
    "from sklearn.model_selection import train_test_split\n",
    "import torch\n",
    "import torch.nn as nn\n",
    "import torch.optim as optim\n",
    "import numpy as np"
   ]
  },
  {
   "cell_type": "code",
   "execution_count": null,
   "metadata": {},
   "outputs": [],
   "source": [
    "df = pd.read_csv('cleaned_data.csv')\n",
    "data = df.to_numpy()\n",
    "\n",
    "#70% train, 30% remaining \n",
    "train_data, temp_data = train_test_split(data, test_size=0.3, random_state=42)\n",
    "\n",
    "# 15% validation, 15% test\n",
    "val_data, test_data = train_test_split(temp_data, test_size=0.5, random_state=42)\n",
    "\n",
    "print(\"Train shape:\", train_data.shape)\n",
    "print(\"Validation shape:\", val_data.shape)\n",
    "print(\"Test shape:\", test_data.shape)"
   ]
  },
  {
   "cell_type": "code",
   "execution_count": null,
   "metadata": {},
   "outputs": [],
   "source": [
    "class Actor(nn.Module):\n",
    "  def __init__(self, state_dim, hidden_dim, action_dim):\n",
    "    super(Actor, self).__init__()\n",
    "    self.fc1 = nn.Linear(state_dim, hidden_dim)\n",
    "    self.fc2 = nn.Linear(hidden_dim, hidden_dim)\n",
    "    self.fc3 = nn.Linear(hidden_dim, action_dim)\n",
    "\n",
    "  def forward(self, state):\n",
    "    x = torch.relu(self.fc1(state))\n",
    "    x = torch.relu(self.fc2(x))\n",
    "    x = self.fc3(x)\n",
    "    return self.softmax(x)"
   ]
  },
  {
   "cell_type": "code",
   "execution_count": null,
   "metadata": {},
   "outputs": [],
   "source": [
    "class Critic(nn.Module):\n",
    "  def __init__(self, state_dim, hidden_dim):\n",
    "    super(Critic, self).__init__()\n",
    "    self.fc1 = nn.Linear(state_dim, hidden_dim)\n",
    "    self.fc2 = nn.Linear(hidden_dim, hidden_dim)\n",
    "    self.fc3 = nn.Linear(hidden_dim, 1)\n",
    "\n",
    "  def forward(self, state):\n",
    "    x = torch.relu(self.fc1(state))\n",
    "    x = torch.relu(self.fc2(x))\n",
    "    return self.fc3(x)"
   ]
  }
 ],
 "metadata": {
  "kernelspec": {
   "display_name": "Python 3.11.6 ('prl_venv': venv)",
   "language": "python",
   "name": "python3"
  },
  "language_info": {
   "name": "python",
   "version": "3.11.6"
  },
  "orig_nbformat": 4,
  "vscode": {
   "interpreter": {
    "hash": "939844eb37076b6ea72e4c32a76b3799cc96ba245743ea3d35c96c0e9d6dd86c"
   }
  }
 },
 "nbformat": 4,
 "nbformat_minor": 2
}
