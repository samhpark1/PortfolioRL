{
 "cells": [
  {
   "cell_type": "code",
   "execution_count": 6,
   "metadata": {},
   "outputs": [],
   "source": [
    "import pandas as pd\n",
    "from sklearn.model_selection import train_test_split\n",
    "import torch\n",
    "import torch.nn as nn\n",
    "import torch.optim as optim\n",
    "import numpy as np"
   ]
  },
  {
   "cell_type": "code",
   "execution_count": 3,
   "metadata": {},
   "outputs": [
    {
     "name": "stdout",
     "output_type": "stream",
     "text": [
      "Train shape: (28111, 31)\n",
      "Validation shape: (6024, 31)\n",
      "Test shape: (6024, 31)\n"
     ]
    }
   ],
   "source": [
    "df = pd.read_csv('cleaned_data.csv')\n",
    "data = df.to_numpy()\n",
    "\n",
    "#70% train, 30% remaining \n",
    "train_data, temp_data = train_test_split(data, test_size=0.3, random_state=42)\n",
    "\n",
    "# 15% validation, 15% test\n",
    "val_data, test_data = train_test_split(temp_data, test_size=0.5, random_state=42)\n",
    "\n",
    "print(\"Train shape:\", train_data.shape)\n",
    "print(\"Validation shape:\", val_data.shape)\n",
    "print(\"Test shape:\", test_data.shape)"
   ]
  },
  {
   "cell_type": "code",
   "execution_count": 7,
   "metadata": {},
   "outputs": [],
   "source": [
    "class ActorCritic(nn.Module):\n",
    "    def __init__(self, obs_dim, action_dim, hidden_size=64):\n",
    "        super(ActorCritic, self).__init__()\n",
    "        self.actor = nn.Sequential(\n",
    "            nn.Linear(obs_dim, hidden_size),\n",
    "            nn.ReLU(),\n",
    "            nn.Linear(hidden_size, action_dim),\n",
    "            nn.Softmax(dim=-1)\n",
    "        )\n",
    "        self.critic = nn.Sequential(\n",
    "            nn.Linear(obs_dim, hidden_size),\n",
    "            nn.ReLU(),\n",
    "            nn.Linear(hidden_size, 1)\n",
    "        )\n",
    "    \n",
    "    def forward(self, x):\n",
    "        action_probs = self.actor(x)\n",
    "        state_value = self.critic(x)\n",
    "        return action_probs, state_value\n"
   ]
  },
  {
   "cell_type": "code",
   "execution_count": 8,
   "metadata": {},
   "outputs": [
    {
     "name": "stdout",
     "output_type": "stream",
     "text": [
      "Action probabilities: tensor([[0.4505, 0.2738, 0.2757]], grad_fn=<SoftmaxBackward0>)\n",
      "Sum of probabilities: tensor([1.], grad_fn=<SumBackward1>)\n",
      "State value: tensor([[-0.0583]], grad_fn=<AddmmBackward0>)\n"
     ]
    }
   ],
   "source": [
    "# TEST FOR THE MODULE ABOVE ^^\n",
    "\n",
    "obs_dim = 28        #num columns in our dataset      \n",
    "action_dim = 3      #Temp number used to represent our actions (Buy, Hold, Sell)\n",
    "\n",
    "model = ActorCritic(obs_dim, action_dim)\n",
    "\n",
    "# Create a dummy input tensor \n",
    "dummy_input = torch.randn(1, obs_dim)\n",
    "\n",
    "# Perform a forward pass\n",
    "action_probs, state_value = model(dummy_input)\n",
    "\n",
    "print(\"Action probabilities:\", action_probs)\n",
    "print(\"Sum of probabilities:\", action_probs.sum(dim=-1))  # should be 1 for each sample\n",
    "print(\"State value:\", state_value)\n"
   ]
  },
  {
   "cell_type": "code",
   "execution_count": 9,
   "metadata": {},
   "outputs": [],
   "source": [
    "def compute_returns_and_advantages(rewards, values, dones, gamma=0.99, lam=0.95):\n",
    "    #Computes using Generalized Advantage Estimation (GAE)\n",
    "    returns = []\n",
    "    advantages = []\n",
    "    gae = 0\n",
    "    next_value = 0\n",
    "    for step in reversed(range(len(rewards))):\n",
    "        delta = rewards[step] + gamma * next_value * (1 - dones[step]) - values[step]\n",
    "        gae = delta + gamma * lam * (1 - dones[step]) * gae\n",
    "        advantages.insert(0, gae)\n",
    "        next_value = values[step]\n",
    "        returns.insert(0, gae + values[step])\n",
    "    return returns, advantages"
   ]
  },
  {
   "cell_type": "code",
   "execution_count": 11,
   "metadata": {},
   "outputs": [
    {
     "name": "stdout",
     "output_type": "stream",
     "text": [
      "test_single_step passed.\n"
     ]
    }
   ],
   "source": [
    "#TEST FOR THE MODULE ABOVE ^^\n",
    "def test_single_step():\n",
    "    \"\"\"\n",
    "    Test with a single step.\n",
    "    \n",
    "    For a single step:\n",
    "      rewards = [5]\n",
    "      values = [2]\n",
    "      dones = [1]  (episode ends at this step)\n",
    "    \n",
    "    Calculation:\n",
    "      delta = 5 + 0.99*0*(1-1) - 2 = 5 - 2 = 3\n",
    "      gae = delta = 3   (since there's no future step)\n",
    "      return = gae + value = 3 + 2 = 5\n",
    "    \"\"\"\n",
    "    rewards = [5]\n",
    "    values = [2]\n",
    "    dones = [1]\n",
    "    returns, advantages = compute_returns_and_advantages(rewards, values, dones, gamma=0.99, lam=0.95)\n",
    "    \n",
    "    assert len(returns) == 1\n",
    "    # Ensure return is close to 5 and advantage is close to 3\n",
    "    assert abs(returns[0] - 5) < 1e-5, f\"Expected return 5, got {returns[0]}\"\n",
    "    assert abs(advantages[0] - 3) < 1e-5, f\"Expected advantage 3, got {advantages[0]}\"\n",
    "    print(\"test_single_step passed.\")\n",
    "\n",
    "\n",
    "\n",
    "if __name__ == \"__main__\":\n",
    "    test_single_step()\n"
   ]
  },
  {
   "cell_type": "code",
   "execution_count": null,
   "metadata": {},
   "outputs": [],
   "source": [
    "#PPO Updates a batch of data\n",
    "def ppo_update(model, optimizer, states, actions, log_probs_old, returns, advantages,\n",
    "               clip_param=0.2, epochs=4, batch_size=64):\n",
    "    \n",
    "    \n",
    "    #Convert Our inputs into tensors\n",
    "    states = torch.tensor(np.array(states), dtype=torch.float32)\n",
    "    actions = torch.tensor(actions, dtype=torch.int64)\n",
    "    returns = torch.tensor(returns, dtype=torch.float32)\n",
    "    advantages = torch.tensor(advantages, dtype=torch.float32)\n",
    "    log_probs_old = torch.tensor(log_probs_old, dtype=torch.float32)\n",
    "\n",
    "    #Initialize dataset and data loader\n",
    "    dataset = torch.utils.data.TensorDataset(states, actions, log_probs_old, returns, advantages)\n",
    "    loader = torch.utils.data.DataLoader(dataset, batch_size=batch_size, shuffle=True)\n",
    "\n",
    "    for _ in range(epochs):\n",
    "        #Iterate over the dataset for multiple epochs to update the model\n",
    "        for batch_states, batch_actions, batch_log_probs_old, batch_returns, batch_advantages in loader:\n",
    "             #Obtain the current policy's action probabilities and state value estimates\n",
    "            action_probs, state_values = model(batch_states)\n",
    "            \n",
    "            dist = torch.distributions.Categorical(action_probs)\n",
    "            log_probs = dist.log_prob(batch_actions)\n",
    "            ratio = torch.exp(log_probs - batch_log_probs_old)\n",
    "            surr1 = ratio * batch_advantages\n",
    "            surr2 = torch.clamp(ratio, 1 - clip_param, 1 + clip_param) * batch_advantages\n",
    "            actor_loss = -torch.min(surr1, surr2).mean()\n",
    "            critic_loss = nn.MSELoss()(state_values.squeeze(), batch_returns)\n",
    "            entropy_loss = dist.entropy().mean()\n",
    "            \n",
    "            # Combine the losses actor loss, weighted critic loss, and subtract the entropy bonus\n",
    "            loss = actor_loss + 0.5 * critic_loss - 0.01 * entropy_loss\n",
    "\n",
    "            #Clear previous gradients, backpropogate the loss and update model params\n",
    "            optimizer.zero_grad()\n",
    "            loss.backward()\n",
    "            optimizer.step()"
   ]
  }
 ],
 "metadata": {
  "kernelspec": {
   "display_name": ".venv",
   "language": "python",
   "name": "python3"
  },
  "language_info": {
   "codemirror_mode": {
    "name": "ipython",
    "version": 3
   },
   "file_extension": ".py",
   "mimetype": "text/x-python",
   "name": "python",
   "nbconvert_exporter": "python",
   "pygments_lexer": "ipython3",
   "version": "3.9.6"
  },
  "orig_nbformat": 4
 },
 "nbformat": 4,
 "nbformat_minor": 2
}
